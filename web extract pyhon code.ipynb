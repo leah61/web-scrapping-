{
 "cells": [
  {
   "cell_type": "code",
   "execution_count": 1,
   "metadata": {},
   "outputs": [],
   "source": [
    "import bs4"
   ]
  },
  {
   "cell_type": "code",
   "execution_count": 2,
   "metadata": {},
   "outputs": [],
   "source": [
    "import lxml"
   ]
  },
  {
   "cell_type": "code",
   "execution_count": 3,
   "metadata": {},
   "outputs": [],
   "source": [
    "from urllib.request import urlopen"
   ]
  },
  {
   "cell_type": "code",
   "execution_count": 4,
   "metadata": {},
   "outputs": [],
   "source": [
    "from bs4 import BeautifulSoup"
   ]
  },
  {
   "cell_type": "code",
   "execution_count": 6,
   "metadata": {},
   "outputs": [
    {
     "name": "stdout",
     "output_type": "stream",
     "text": [
      "11.55 - 13.86\n"
     ]
    }
   ],
   "source": [
    "# specify the url\n",
    "quote_page = 'https://www.aliexpress.com/item/mens-cotton-T-Shirt-Men-s-High-Quality-Dickhead-Shirt-Funny-Halloween-Dick-Head-t-shirt/32849915635.html?spm=2114.search0103.3.17.1ff94f15MPk6og&ws_ab_test=searchweb0_0,searchweb201602_3_10846_10152_10065_10151_10344_10068_10342_10343_10340_10059_10341_10696_100031_10084_10083_10103_524_10618_10624_10307_10623_10622_10621_10620,searchweb201603_31,ppcSwitch_3&algo_expid=8b38441c-93ee-4fd0-8d7a-04e75cb65b3f-2&algo_pvid=8b38441c-93ee-4fd0-8d7a-04e75cb65b3f&priceBeautifyAB=0'\n",
    "# query the website and return the html to the variable page\n",
    "page = urlopen(quote_page).read()\n",
    "\n",
    "# parse the html using beautiful soup and store in variable `soup`\n",
    "soup = BeautifulSoup(page, 'html.parser')\n",
    "\n",
    "# Take out the <div> of name and get its value\n",
    "name_box = soup.find('div', attrs={'class': 'product-price-main'})\n",
    "\n",
    "# strip() is used to remove starting and trailing\n",
    "name = name_box.text.strip() \n",
    "# print name\n",
    "\n",
    "# get the index price\n",
    "price_box = soup.find('span', attrs={'class':'p-price'})\n",
    "price = price_box.text\n",
    "print (price)"
   ]
  },
  {
   "cell_type": "code",
   "execution_count": null,
   "metadata": {},
   "outputs": [],
   "source": []
  }
 ],
 "metadata": {
  "kernelspec": {
   "display_name": "Python 3",
   "language": "python",
   "name": "python3"
  },
  "language_info": {
   "codemirror_mode": {
    "name": "ipython",
    "version": 3
   },
   "file_extension": ".py",
   "mimetype": "text/x-python",
   "name": "python",
   "nbconvert_exporter": "python",
   "pygments_lexer": "ipython3",
   "version": "3.6.4"
  }
 },
 "nbformat": 4,
 "nbformat_minor": 2
}
